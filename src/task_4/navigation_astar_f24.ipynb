{
 "cells": [
  {
   "cell_type": "markdown",
   "metadata": {
    "id": "tLwvqtsxYuDl"
   },
   "source": [
    "# Navigation"
   ]
  },
  {
   "cell_type": "markdown",
   "metadata": {
    "id": "W1MvViuMYuDm"
   },
   "source": [
    "So far you have learned how some planning algorithms work. ROS implements some of these algorithms, so we do not have to worry about implementing them from scratch. But where is the fun in that, so let's go through some of the algorithms, and understand what would be the steps to implement a planning algorithm on a \"real environment\".\n",
    "\n",
    "The following notebook is aimed explain:\n",
    "1. The reading process of the *.pgm files generated during the mapping stage in ROS.\n",
    "2. The concept of Node, Tree and how that is related to the the planning algorithms.\n",
    "3. The implementation fo the planning algorithms\n",
    "\n",
    "## Map Loading\n",
    "In order to create a plan (at least a global one), it is necessary to have a map to work on. For that, we will make use of the map we obtained during the navigation course. We can use the information in the pgm and yaml files as follows:"
   ]
  },
  {
   "cell_type": "code",
   "execution_count": 2,
   "metadata": {
    "colab": {
     "base_uri": "https://localhost:8080/",
     "height": 551
    },
    "executionInfo": {
     "elapsed": 1118,
     "status": "ok",
     "timestamp": 1679683206666,
     "user": {
      "displayName": "Zihan Wang",
      "userId": "15541409756149399025"
     },
     "user_tz": 240
    },
    "id": "73E60_aMYuDn",
    "outputId": "e3634b7b-1d49-4a5b-a1b2-4772adb302fa"
   },
   "outputs": [
    {
     "name": "stdout",
     "output_type": "stream",
     "text": [
      "\n"
     ]
    },
    {
     "data": {
      "image/png": "[encoded data removed]",
      "text/plain": [
       "<Figure size 960x720 with 1 Axes>"
      ]
     },
     "metadata": {},
     "output_type": "display_data"
    }
   ],
   "source": [
    "from PIL import Image, ImageOps \n",
    "\n",
    "import numpy as np\n",
    "import matplotlib.pyplot as plt\n",
    "import matplotlib.cm as cm\n",
    "import os\n",
    "\n",
    "import yaml\n",
    "import pandas as pd\n",
    "\n",
    "from copy import copy, deepcopy\n",
    "import time\n",
    "\n",
    "class Map():\n",
    "    def __init__(self, map_name):\n",
    "        self.map_im, self.map_df, self.limits = self.__open_map(map_name)\n",
    "        self.image_array = self.__get_obstacle_map(self.map_im, self.map_df)\n",
    "    \n",
    "    def __repr__(self):\n",
    "        fig, ax = plt.subplots(dpi=150)\n",
    "        ax.imshow(self.image_array,extent=self.limits, cmap=cm.gray)\n",
    "        ax.plot()\n",
    "        return \"\"\n",
    "        \n",
    "    def __open_map(self,map_name):\n",
    "        # Open the YAML file which contains the map name and other\n",
    "        # configuration parameters\n",
    "        f = open(map_name + '.yaml', 'r')\n",
    "        map_df = pd.json_normalize(yaml.safe_load(f))\n",
    "        # Open the map image (relative path)\n",
    "        # map_name = map_df.image[0]\n",
    "        # im = Image.open(map_name)\n",
    "        # Open the map image (absolute path)\n",
    "        map_dir = os.path.dirname(map_name+'.pgm')\n",
    "        image_path = os.path.join(map_dir, map_df.image[0])\n",
    "        im = Image.open(image_path)\n",
    "        \n",
    "        size = 200, 200\n",
    "        im.thumbnail(size)\n",
    "        im = ImageOps.grayscale(im)\n",
    "        # Get the limits of the map. This will help to display the map\n",
    "        # with the correct axis ticks.\n",
    "        xmin = map_df.origin[0][0]\n",
    "        xmax = map_df.origin[0][0] + im.size[0] * map_df.resolution[0]\n",
    "        ymin = map_df.origin[0][1]\n",
    "        ymax = map_df.origin[0][1] + im.size[1] * map_df.resolution[0]\n",
    "\n",
    "        return im, map_df, [xmin,xmax,ymin,ymax]\n",
    "\n",
    "    def __get_obstacle_map(self,map_im, map_df):\n",
    "        img_array = np.reshape(list(self.map_im.getdata()),(self.map_im.size[1],self.map_im.size[0]))\n",
    "        up_thresh = self.map_df.occupied_thresh[0]*255\n",
    "        low_thresh = self.map_df.free_thresh[0]*255\n",
    "\n",
    "        for j in range(self.map_im.size[0]):\n",
    "            for i in range(self.map_im.size[1]):\n",
    "                if img_array[i,j] > up_thresh:\n",
    "                    img_array[i,j] = 255\n",
    "                else:\n",
    "                    img_array[i,j] = 0\n",
    "        return img_array\n",
    "\n",
    "\n",
    "# print(Map('map'))\n",
    "print(Map('/home/albert/ros2_ws/src/task_4/maps/sync_classroom_map'))"
   ]
  },
  {
   "cell_type": "markdown",
   "metadata": {
    "id": "nI4FI0XtYuDp"
   },
   "source": [
    "## Graph Representation and Map Conversion\n",
    "In order to make use of any of the path planning algorithms, it is important to convert the obtained map into a more useful notation. In general, the path planning algorithms work on the basis of a data structure called Graph. A graph is an abstract data type that consists of a finite set of vertices (nodes) and edges that connects them. The edges can have or not direction, which makes the graph directed or undirected respectively. Additionally, it is common to see values associated to the edges, which brings the concept of \"cost\" or \"weight\" to the graph. \n",
    "\n",
    "The main objective is then to implement a processing tool capable of converting the image map representation into a graph, and then solve the planning problem from the map graph representation."
   ]
  },
  {
   "cell_type": "markdown",
   "metadata": {
    "id": "-dCgVsuEYuDq"
   },
   "source": [
    "### Node/Tree Visualization\n",
    "A useful tool for graph visualization is Graphviz, which can be used through the ``` edge ``` and ``` node ``` APIs to create a graph structure as the one shown below."
   ]
  },
  {
   "cell_type": "code",
   "execution_count": 3,
   "metadata": {
    "colab": {
     "base_uri": "https://localhost:8080/",
     "height": 272
    },
    "executionInfo": {
     "elapsed": 354,
     "status": "ok",
     "timestamp": 1679681180897,
     "user": {
      "displayName": "Zihan Wang",
      "userId": "15541409756149399025"
     },
     "user_tz": 240
    },
    "id": "yiAAPWauYuDr",
    "outputId": "8f66d6dc-d9d9-4ffe-f8de-a1f1e4004dcf"
   },
   "outputs": [
    {
     "data": {
      "image/svg+xml": [
       "<?xml version=\"1.0\" encoding=\"UTF-8\" standalone=\"no\"?>\n",
       "<!DOCTYPE svg PUBLIC \"-//W3C//DTD SVG 1.1//EN\"\n",
       " \"http://www.w3.org/Graphics/SVG/1.1/DTD/svg11.dtd\">\n",
       "<!-- Generated by graphviz version 2.43.0 (0)\n",
       " -->\n",
       "<!-- Title: G Pages: 1 -->\n",
       "<svg width=\"170pt\" height=\"188pt\"\n",
       " viewBox=\"0.00 0.00 170.00 188.00\" xmlns=\"http://www.w3.org/2000/svg\" xmlns:xlink=\"http://www.w3.org/1999/xlink\">\n",
       "<g id=\"graph0\" class=\"graph\" transform=\"scale(1 1) rotate(0) translate(4 184)\">\n",
       "<title>G</title>\n",
       "<polygon fill=\"white\" stroke=\"transparent\" points=\"-4,4 -4,-184 166,-184 166,4 -4,4\"/>\n",
       "<!-- a -->\n",
       "<g id=\"node1\" class=\"node\">\n",
       "<title>a</title>\n",
       "<ellipse fill=\"lightgrey\" stroke=\"black\" cx=\"63\" cy=\"-162\" rx=\"27\" ry=\"18\"/>\n",
       "<text text-anchor=\"middle\" x=\"63\" y=\"-158.3\" font-family=\"Times,serif\" font-size=\"14.00\">a</text>\n",
       "</g>\n",
       "<!-- b -->\n",
       "<g id=\"node2\" class=\"node\">\n",
       "<title>b</title>\n",
       "<ellipse fill=\"none\" stroke=\"black\" cx=\"27\" cy=\"-90\" rx=\"27\" ry=\"18\"/>\n",
       "<text text-anchor=\"middle\" x=\"27\" y=\"-86.3\" font-family=\"Times,serif\" font-size=\"14.00\">b</text>\n",
       "</g>\n",
       "<!-- a&#45;&#45;b -->\n",
       "<g id=\"edge1\" class=\"edge\">\n",
       "<title>a&#45;&#45;b</title>\n",
       "<path fill=\"none\" stroke=\"black\" d=\"M54.65,-144.76C48.83,-133.46 41.11,-118.44 35.3,-107.15\"/>\n",
       "</g>\n",
       "<!-- c -->\n",
       "<g id=\"node3\" class=\"node\">\n",
       "<title>c</title>\n",
       "<ellipse fill=\"none\" stroke=\"black\" cx=\"99\" cy=\"-90\" rx=\"27\" ry=\"18\"/>\n",
       "<text text-anchor=\"middle\" x=\"99\" y=\"-86.3\" font-family=\"Times,serif\" font-size=\"14.00\">c</text>\n",
       "</g>\n",
       "<!-- a&#45;&#45;c -->\n",
       "<g id=\"edge2\" class=\"edge\">\n",
       "<title>a&#45;&#45;c</title>\n",
       "<path fill=\"none\" stroke=\"black\" d=\"M71.35,-144.76C77.17,-133.46 84.89,-118.44 90.7,-107.15\"/>\n",
       "</g>\n",
       "<!-- d -->\n",
       "<g id=\"node4\" class=\"node\">\n",
       "<title>d</title>\n",
       "<ellipse fill=\"none\" stroke=\"black\" cx=\"63\" cy=\"-18\" rx=\"27\" ry=\"18\"/>\n",
       "<text text-anchor=\"middle\" x=\"63\" y=\"-14.3\" font-family=\"Times,serif\" font-size=\"14.00\">d</text>\n",
       "</g>\n",
       "<!-- c&#45;&#45;d -->\n",
       "<g id=\"edge3\" class=\"edge\">\n",
       "<title>c&#45;&#45;d</title>\n",
       "<path fill=\"none\" stroke=\"black\" d=\"M90.65,-72.76C84.83,-61.46 77.11,-46.44 71.3,-35.15\"/>\n",
       "</g>\n",
       "<!-- e -->\n",
       "<g id=\"node5\" class=\"node\">\n",
       "<title>e</title>\n",
       "<ellipse fill=\"none\" stroke=\"black\" cx=\"135\" cy=\"-18\" rx=\"27\" ry=\"18\"/>\n",
       "<text text-anchor=\"middle\" x=\"135\" y=\"-14.3\" font-family=\"Times,serif\" font-size=\"14.00\">e</text>\n",
       "</g>\n",
       "<!-- c&#45;&#45;e -->\n",
       "<g id=\"edge4\" class=\"edge\">\n",
       "<title>c&#45;&#45;e</title>\n",
       "<path fill=\"none\" stroke=\"black\" d=\"M107.35,-72.76C113.17,-61.46 120.89,-46.44 126.7,-35.15\"/>\n",
       "</g>\n",
       "</g>\n",
       "</svg>\n"
      ],
      "text/plain": [
       "<graphviz.graphs.Graph at 0x7eb0a836ba90>"
      ]
     },
     "execution_count": 3,
     "metadata": {},
     "output_type": "execute_result"
    }
   ],
   "source": [
    "from graphviz import Graph\n",
    "g = Graph('G')\n",
    "\n",
    "g.node('a','a',style='filled')\n",
    "g.node('b','b')\n",
    "g.node('c','c')\n",
    "g.node('d','d')\n",
    "g.node('e','e')\n",
    "\n",
    "g.edge('a','b',shape='none')\n",
    "g.edge('a','c')\n",
    "g.edge('c','d')\n",
    "g.edge('c','e')\n",
    "\n",
    "g"
   ]
  },
  {
   "cell_type": "code",
   "execution_count": 4,
   "metadata": {
    "id": "SWFPXm-mYuDs"
   },
   "outputs": [],
   "source": [
    "class Queue():\n",
    "    def __init__(self, init_queue = []):\n",
    "        self.queue = copy(init_queue)\n",
    "        self.start = 0\n",
    "        self.end = len(self.queue)-1\n",
    "    \n",
    "    def __len__(self):\n",
    "        numel = len(self.queue)\n",
    "        return numel\n",
    "    \n",
    "    def __repr__(self):\n",
    "        q = self.queue\n",
    "        tmpstr = \"\"\n",
    "        for i in range(len(self.queue)):\n",
    "            flag = False\n",
    "            if(i == self.start):\n",
    "                tmpstr += \"<\"\n",
    "                flag = True\n",
    "            if(i == self.end):\n",
    "                tmpstr += \">\"\n",
    "                flag = True\n",
    "            \n",
    "            if(flag):\n",
    "                tmpstr += '| ' + str(q[i]) + '|\\n'\n",
    "            else:\n",
    "                tmpstr += ' | ' + str(q[i]) + '|\\n'\n",
    "            \n",
    "        return tmpstr\n",
    "    \n",
    "    def __call__(self):\n",
    "        return self.queue\n",
    "    \n",
    "    def initialize_queue(self,init_queue = []):\n",
    "        self.queue = copy(init_queue)\n",
    "    \n",
    "    def sort(self,key=str.lower):\n",
    "        self.queue = sorted(self.queue,key=key)\n",
    "        \n",
    "    def push(self,data):\n",
    "        self.queue.append(data)\n",
    "        self.end += 1\n",
    "    \n",
    "    def pop(self):\n",
    "        p = self.queue.pop(self.start)\n",
    "        self.end = len(self.queue)-1\n",
    "        return p\n",
    "    \n",
    "class Node():\n",
    "    def __init__(self,name):\n",
    "        self.name = name\n",
    "        self.children = []\n",
    "        self.weight = []\n",
    "        \n",
    "    def __repr__(self):\n",
    "        return self.name\n",
    "        \n",
    "    def add_children(self,node,w=None):\n",
    "        if w == None:\n",
    "            w = [1]*len(node)\n",
    "        self.children.extend(node)\n",
    "        self.weight.extend(w)\n",
    "    \n",
    "class Tree():\n",
    "    def __init__(self,name):\n",
    "        self.name = name\n",
    "        self.root = 0\n",
    "        self.end = 0\n",
    "        self.g = {}\n",
    "        self.g_visual = Graph('G')\n",
    "    \n",
    "    def __call__(self):\n",
    "        for name,node in self.g.items():\n",
    "            if(self.root == name):\n",
    "                self.g_visual.node(name,name,color='red')\n",
    "            elif(self.end == name):\n",
    "                self.g_visual.node(name,name,color='blue')\n",
    "            else:\n",
    "                self.g_visual.node(name,name)\n",
    "            for i in range(len(node.children)):\n",
    "                c = node.children[i]\n",
    "                w = node.weight[i]\n",
    "                #print('%s -> %s'%(name,c.name))\n",
    "                if w == 0:\n",
    "                    self.g_visual.edge(name,c.name)\n",
    "                else:\n",
    "                    self.g_visual.edge(name,c.name,label=str(w))\n",
    "        return self.g_visual\n",
    "    \n",
    "    def add_node(self, node, start = False, end = False):\n",
    "        self.g[node.name] = node\n",
    "        if(start):\n",
    "            self.root = node.name\n",
    "        elif(end):\n",
    "            self.end = node.name\n",
    "            \n",
    "    def set_as_root(self,node):\n",
    "        # These are exclusive conditions\n",
    "        self.root = True\n",
    "        self.end = False\n",
    "    \n",
    "    def set_as_end(self,node):\n",
    "        # These are exclusive conditions\n",
    "        self.root = False\n",
    "        self.end = True   \n",
    "        "
   ]
  },
  {
   "cell_type": "code",
   "execution_count": 5,
   "metadata": {
    "id": "SLo1VNuEYuDt"
   },
   "outputs": [],
   "source": [
    "a = Node('a')\n",
    "b = Node('b')\n",
    "c = Node('c')\n",
    "d = Node('d')\n",
    "e = Node('e')\n",
    "f = Node('f')\n",
    "\n",
    "a.add_children([c],[1])\n",
    "b.add_children([c,e],[1,1])\n",
    "c.add_children([b,e,d],[1,3,1])\n",
    "e.add_children([b,c],[1,3])\n",
    "d.add_children([c],[1])\n",
    "\n",
    "tree = Tree('tree')\n",
    "tree.add_node(a,start=True)\n",
    "tree.add_node(b)\n",
    "tree.add_node(c)\n",
    "tree.add_node(d)\n",
    "tree.add_node(e,end=True)\n",
    "tree.add_node(f)"
   ]
  },
  {
   "cell_type": "code",
   "execution_count": 6,
   "metadata": {
    "colab": {
     "base_uri": "https://localhost:8080/",
     "height": 428
    },
    "executionInfo": {
     "elapsed": 723,
     "status": "ok",
     "timestamp": 1679681190538,
     "user": {
      "displayName": "Zihan Wang",
      "userId": "15541409756149399025"
     },
     "user_tz": 240
    },
    "id": "Xi_4Xl7-YuDt",
    "outputId": "83c239e2-7ec3-420f-a4af-54324cb8d2e8"
   },
   "outputs": [
    {
     "data": {
      "image/svg+xml": [
       "<?xml version=\"1.0\" encoding=\"UTF-8\" standalone=\"no\"?>\n",
       "<!DOCTYPE svg PUBLIC \"-//W3C//DTD SVG 1.1//EN\"\n",
       " \"http://www.w3.org/Graphics/SVG/1.1/DTD/svg11.dtd\">\n",
       "<!-- Generated by graphviz version 2.43.0 (0)\n",
       " -->\n",
       "<!-- Title: G Pages: 1 -->\n",
       "<svg width=\"213pt\" height=\"305pt\"\n",
       " viewBox=\"0.00 0.00 213.00 305.00\" xmlns=\"http://www.w3.org/2000/svg\" xmlns:xlink=\"http://www.w3.org/1999/xlink\">\n",
       "<g id=\"graph0\" class=\"graph\" transform=\"scale(1 1) rotate(0) translate(4 301)\">\n",
       "<title>G</title>\n",
       "<polygon fill=\"white\" stroke=\"transparent\" points=\"-4,4 -4,-301 209,-301 209,4 -4,4\"/>\n",
       "<!-- a -->\n",
       "<g id=\"node1\" class=\"node\">\n",
       "<title>a</title>\n",
       "<ellipse fill=\"none\" stroke=\"red\" cx=\"106\" cy=\"-279\" rx=\"27\" ry=\"18\"/>\n",
       "<text text-anchor=\"middle\" x=\"106\" y=\"-275.3\" font-family=\"Times,serif\" font-size=\"14.00\">a</text>\n",
       "</g>\n",
       "<!-- c -->\n",
       "<g id=\"node2\" class=\"node\">\n",
       "<title>c</title>\n",
       "<ellipse fill=\"none\" stroke=\"black\" cx=\"106\" cy=\"-192\" rx=\"27\" ry=\"18\"/>\n",
       "<text text-anchor=\"middle\" x=\"106\" y=\"-188.3\" font-family=\"Times,serif\" font-size=\"14.00\">c</text>\n",
       "</g>\n",
       "<!-- a&#45;&#45;c -->\n",
       "<g id=\"edge1\" class=\"edge\">\n",
       "<title>a&#45;&#45;c</title>\n",
       "<path fill=\"none\" stroke=\"black\" d=\"M106,-260.8C106,-246.05 106,-224.92 106,-210.18\"/>\n",
       "<text text-anchor=\"middle\" x=\"111\" y=\"-231.8\" font-family=\"Times,serif\" font-size=\"14.00\">1</text>\n",
       "</g>\n",
       "<!-- b -->\n",
       "<g id=\"node3\" class=\"node\">\n",
       "<title>b</title>\n",
       "<ellipse fill=\"none\" stroke=\"black\" cx=\"27\" cy=\"-105\" rx=\"27\" ry=\"18\"/>\n",
       "<text text-anchor=\"middle\" x=\"27\" y=\"-101.3\" font-family=\"Times,serif\" font-size=\"14.00\">b</text>\n",
       "</g>\n",
       "<!-- c&#45;&#45;b -->\n",
       "<g id=\"edge4\" class=\"edge\">\n",
       "<title>c&#45;&#45;b</title>\n",
       "<path fill=\"none\" stroke=\"black\" d=\"M81.57,-183.93C67.14,-178.54 49.65,-169.66 39,-156 31.75,-146.71 28.79,-133.71 27.62,-123.29\"/>\n",
       "<text text-anchor=\"middle\" x=\"44\" y=\"-144.8\" font-family=\"Times,serif\" font-size=\"14.00\">1</text>\n",
       "</g>\n",
       "<!-- e -->\n",
       "<g id=\"node4\" class=\"node\">\n",
       "<title>e</title>\n",
       "<ellipse fill=\"none\" stroke=\"blue\" cx=\"76\" cy=\"-18\" rx=\"27\" ry=\"18\"/>\n",
       "<text text-anchor=\"middle\" x=\"76\" y=\"-14.3\" font-family=\"Times,serif\" font-size=\"14.00\">e</text>\n",
       "</g>\n",
       "<!-- c&#45;&#45;e -->\n",
       "<g id=\"edge5\" class=\"edge\">\n",
       "<title>c&#45;&#45;e</title>\n",
       "<path fill=\"none\" stroke=\"black\" d=\"M103.01,-173.88C97.26,-140.91 84.71,-68.97 78.97,-36.05\"/>\n",
       "<text text-anchor=\"middle\" x=\"98\" y=\"-101.3\" font-family=\"Times,serif\" font-size=\"14.00\">3</text>\n",
       "</g>\n",
       "<!-- d -->\n",
       "<g id=\"node5\" class=\"node\">\n",
       "<title>d</title>\n",
       "<ellipse fill=\"none\" stroke=\"black\" cx=\"145\" cy=\"-105\" rx=\"27\" ry=\"18\"/>\n",
       "<text text-anchor=\"middle\" x=\"145\" y=\"-101.3\" font-family=\"Times,serif\" font-size=\"14.00\">d</text>\n",
       "</g>\n",
       "<!-- c&#45;&#45;d -->\n",
       "<g id=\"edge6\" class=\"edge\">\n",
       "<title>c&#45;&#45;d</title>\n",
       "<path fill=\"none\" stroke=\"black\" d=\"M111.2,-174C114.44,-164.17 118.94,-151.67 124,-141 127.1,-134.47 131.06,-127.59 134.71,-121.67\"/>\n",
       "<text text-anchor=\"middle\" x=\"129\" y=\"-144.8\" font-family=\"Times,serif\" font-size=\"14.00\">1</text>\n",
       "</g>\n",
       "<!-- b&#45;&#45;c -->\n",
       "<g id=\"edge2\" class=\"edge\">\n",
       "<title>b&#45;&#45;c</title>\n",
       "<path fill=\"none\" stroke=\"black\" d=\"M37.9,-121.49C45.35,-131.69 55.72,-145.12 66,-156 73.23,-163.65 81.95,-171.42 89.4,-177.7\"/>\n",
       "<text text-anchor=\"middle\" x=\"71\" y=\"-144.8\" font-family=\"Times,serif\" font-size=\"14.00\">1</text>\n",
       "</g>\n",
       "<!-- b&#45;&#45;e -->\n",
       "<g id=\"edge3\" class=\"edge\">\n",
       "<title>b&#45;&#45;e</title>\n",
       "<path fill=\"none\" stroke=\"black\" d=\"M25.5,-86.82C25.37,-76.69 26.57,-63.96 32,-54 37.42,-44.06 46.96,-35.94 55.78,-30.03\"/>\n",
       "<text text-anchor=\"middle\" x=\"37\" y=\"-57.8\" font-family=\"Times,serif\" font-size=\"14.00\">1</text>\n",
       "</g>\n",
       "<!-- e&#45;&#45;c -->\n",
       "<g id=\"edge9\" class=\"edge\">\n",
       "<title>e&#45;&#45;c</title>\n",
       "<path fill=\"none\" stroke=\"black\" d=\"M99.88,-26.73C125.21,-36.37 163.88,-55.52 181,-87 200.46,-122.79 153.77,-160.55 125.56,-179.18\"/>\n",
       "<text text-anchor=\"middle\" x=\"190\" y=\"-101.3\" font-family=\"Times,serif\" font-size=\"14.00\">3</text>\n",
       "</g>\n",
       "<!-- e&#45;&#45;b -->\n",
       "<g id=\"edge8\" class=\"edge\">\n",
       "<title>e&#45;&#45;b</title>\n",
       "<path fill=\"none\" stroke=\"black\" d=\"M66.66,-35.21C57.91,-50.38 44.92,-72.91 36.22,-88.01\"/>\n",
       "<text text-anchor=\"middle\" x=\"59\" y=\"-57.8\" font-family=\"Times,serif\" font-size=\"14.00\">1</text>\n",
       "</g>\n",
       "<!-- d&#45;&#45;c -->\n",
       "<g id=\"edge7\" class=\"edge\">\n",
       "<title>d&#45;&#45;c</title>\n",
       "<path fill=\"none\" stroke=\"black\" d=\"M143.18,-123.3C141.65,-133.23 138.9,-145.73 134,-156 130.51,-163.3 125.24,-170.45 120.2,-176.36\"/>\n",
       "<text text-anchor=\"middle\" x=\"144\" y=\"-144.8\" font-family=\"Times,serif\" font-size=\"14.00\">1</text>\n",
       "</g>\n",
       "<!-- f -->\n",
       "<g id=\"node6\" class=\"node\">\n",
       "<title>f</title>\n",
       "<ellipse fill=\"none\" stroke=\"black\" cx=\"178\" cy=\"-279\" rx=\"27\" ry=\"18\"/>\n",
       "<text text-anchor=\"middle\" x=\"178\" y=\"-275.3\" font-family=\"Times,serif\" font-size=\"14.00\">f</text>\n",
       "</g>\n",
       "</g>\n",
       "</svg>\n"
      ],
      "text/plain": [
       "<graphviz.graphs.Graph at 0x7eb0a836a140>"
      ]
     },
     "execution_count": 6,
     "metadata": {},
     "output_type": "execute_result"
    }
   ],
   "source": [
    "tree()"
   ]
  },
  {
   "cell_type": "markdown",
   "metadata": {
    "id": "vUlJhe4AYuDu"
   },
   "source": [
    "## Breadth First Search Algorithm"
   ]
  },
  {
   "cell_type": "markdown",
   "metadata": {
    "id": "DXcI1i9bYuDv"
   },
   "source": [
    "The breadth first search goes through the nodes in an unweighted graph and keeps a queue of the visited and unvisited nodes. For that, BFS checks the child nodes at every iteration and adds them to the queue, if a particular child node was already in the queue, it just skips to the next. At the end of the iteration, the parent node is marked as visited and it goes to the next entry in the queue. In the graph above, if we consider the node 'a' as the start node, then the queue would look like this after the first iteration.<br><br>\n",
    "**1st iteration**\n",
    "```\n",
    "c\n",
    "a <- visited\n",
    "```\n",
    "**2nd iteration**\n",
    "```\n",
    "d\n",
    "e\n",
    "b\n",
    "c <- visited\n",
    "a <- visited\n",
    "```\n",
    "**3rd iteration**\n",
    "```\n",
    "d\n",
    "e\n",
    "b <- visited\n",
    "c <- visited\n",
    "a <- visited\n",
    "```"
   ]
  },
  {
   "cell_type": "code",
   "execution_count": 7,
   "metadata": {
    "id": "NT-iOOCMYuDv"
   },
   "outputs": [],
   "source": [
    "class BFS():\n",
    "    def __init__(self,tree):\n",
    "        self.q = Queue()\n",
    "        self.visited = {name:False for name,node in tree.g.items()}\n",
    "        self.via = {name:0 for name,node in tree.g.items()}\n",
    "        self.dist = {name:0 for name,node in tree.g.items()}\n",
    "        \n",
    "    def solve(self,sn):\n",
    "        self.q.push(sn)\n",
    "        self.visited[sn.name] = True\n",
    "        while len(self.q) > 0:\n",
    "            node = self.q.pop()\n",
    "            for i in range(len(node.children)):\n",
    "                c = node.children[i]\n",
    "                w = node.weight[i]\n",
    "                if self.visited[c.name] == False:\n",
    "                    self.q.push(c)\n",
    "                    self.visited[c.name] = True\n",
    "                    self.via[c.name] = node.name\n",
    "                    self.dist[c.name] = self.dist[node.name] + w\n",
    "            #print(node.name,self.q.queue)\n",
    "            #print(self.dist)\n",
    "        return self.via\n",
    "    \n",
    "    def reconstruct_path(self,sn=0,en=0):\n",
    "        path = []\n",
    "        node = en.name\n",
    "        path.append(node)\n",
    "        dist = self.dist[en.name]\n",
    "        while True:\n",
    "            node = self.via[node]\n",
    "            if node == 0:\n",
    "                break\n",
    "            else:\n",
    "                path.append(node)\n",
    "        path.reverse()\n",
    "        if path[0] != sn.name:\n",
    "            path = []\n",
    "        return path,dist         \n",
    "        "
   ]
  },
  {
   "cell_type": "code",
   "execution_count": 8,
   "metadata": {
    "colab": {
     "base_uri": "https://localhost:8080/"
    },
    "executionInfo": {
     "elapsed": 130,
     "status": "ok",
     "timestamp": 1679681199167,
     "user": {
      "displayName": "Zihan Wang",
      "userId": "15541409756149399025"
     },
     "user_tz": 240
    },
    "id": "Fp1g3jCyYuDw",
    "outputId": "44911044-34ae-4de3-c734-06dc9f2e46e1"
   },
   "outputs": [
    {
     "name": "stdout",
     "output_type": "stream",
     "text": [
      "['a', 'c', 'e']\n",
      "4\n"
     ]
    }
   ],
   "source": [
    "bfs = BFS(tree)\n",
    "bfs.solve(tree.g[tree.root])\n",
    "path,dist = bfs.reconstruct_path(tree.g[tree.root],tree.g[tree.end])\n",
    "print(path)\n",
    "print(dist)"
   ]
  },
  {
   "cell_type": "markdown",
   "metadata": {
    "id": "1uW3GkBWYuDw"
   },
   "source": [
    "## Dijkstra's Algorithm"
   ]
  },
  {
   "cell_type": "markdown",
   "metadata": {
    "id": "5aq29iiCYuDw"
   },
   "source": [
    "Dijkstra's finds the shortest path between two points given a weighted graph. Unlike BFS, Dijkstra's algorithm takes into consideration how difficult is to get from one node to another. Once we pass the graph and the start point to the algorithm it will build a data structure, where we can find the shortest path from the given start point to any other node in the graph (if they are connected). If we only require to find the path to one end point, then the algorithm can be shortened to break once that end point is found.\n",
    "\n",
    "The key difference of this algorithms lies on the ``` dist ``` and ``` via ``` lists, which give the ability to propritize the search of the shortest path. This also has the disadvantage that, if no other information is given, the algorithm will start looking for the shortest edges, regardless of where the target/end node is."
   ]
  },
  {
   "cell_type": "code",
   "execution_count": 9,
   "metadata": {
    "id": "5wJyINOhYuDx"
   },
   "outputs": [],
   "source": [
    "a = Node('a')\n",
    "b = Node('b')\n",
    "c = Node('c')\n",
    "d = Node('d')\n",
    "e = Node('e')\n",
    "f = Node('f')\n",
    "\n",
    "a.add_children([c],[1])\n",
    "b.add_children([c,e],[1,1])\n",
    "c.add_children([b,e,d],[1,3,1])\n",
    "e.add_children([b,c],[1,3])\n",
    "d.add_children([c],[1])\n",
    "\n",
    "tree = Tree('tree1')\n",
    "tree.add_node(a,start=True)\n",
    "tree.add_node(b)\n",
    "tree.add_node(c)\n",
    "tree.add_node(d)\n",
    "tree.add_node(e,end=True)\n",
    "tree.add_node(f)"
   ]
  },
  {
   "cell_type": "code",
   "execution_count": 10,
   "metadata": {
    "id": "2MDhjJV0YuDx"
   },
   "outputs": [
    {
     "data": {
      "image/svg+xml": [
       "<?xml version=\"1.0\" encoding=\"UTF-8\" standalone=\"no\"?>\n",
       "<!DOCTYPE svg PUBLIC \"-//W3C//DTD SVG 1.1//EN\"\n",
       " \"http://www.w3.org/Graphics/SVG/1.1/DTD/svg11.dtd\">\n",
       "<!-- Generated by graphviz version 2.43.0 (0)\n",
       " -->\n",
       "<!-- Title: G Pages: 1 -->\n",
       "<svg width=\"213pt\" height=\"305pt\"\n",
       " viewBox=\"0.00 0.00 213.00 305.00\" xmlns=\"http://www.w3.org/2000/svg\" xmlns:xlink=\"http://www.w3.org/1999/xlink\">\n",
       "<g id=\"graph0\" class=\"graph\" transform=\"scale(1 1) rotate(0) translate(4 301)\">\n",
       "<title>G</title>\n",
       "<polygon fill=\"white\" stroke=\"transparent\" points=\"-4,4 -4,-301 209,-301 209,4 -4,4\"/>\n",
       "<!-- a -->\n",
       "<g id=\"node1\" class=\"node\">\n",
       "<title>a</title>\n",
       "<ellipse fill=\"none\" stroke=\"red\" cx=\"106\" cy=\"-279\" rx=\"27\" ry=\"18\"/>\n",
       "<text text-anchor=\"middle\" x=\"106\" y=\"-275.3\" font-family=\"Times,serif\" font-size=\"14.00\">a</text>\n",
       "</g>\n",
       "<!-- c -->\n",
       "<g id=\"node2\" class=\"node\">\n",
       "<title>c</title>\n",
       "<ellipse fill=\"none\" stroke=\"black\" cx=\"106\" cy=\"-192\" rx=\"27\" ry=\"18\"/>\n",
       "<text text-anchor=\"middle\" x=\"106\" y=\"-188.3\" font-family=\"Times,serif\" font-size=\"14.00\">c</text>\n",
       "</g>\n",
       "<!-- a&#45;&#45;c -->\n",
       "<g id=\"edge1\" class=\"edge\">\n",
       "<title>a&#45;&#45;c</title>\n",
       "<path fill=\"none\" stroke=\"black\" d=\"M106,-260.8C106,-246.05 106,-224.92 106,-210.18\"/>\n",
       "<text text-anchor=\"middle\" x=\"111\" y=\"-231.8\" font-family=\"Times,serif\" font-size=\"14.00\">1</text>\n",
       "</g>\n",
       "<!-- b -->\n",
       "<g id=\"node3\" class=\"node\">\n",
       "<title>b</title>\n",
       "<ellipse fill=\"none\" stroke=\"black\" cx=\"27\" cy=\"-105\" rx=\"27\" ry=\"18\"/>\n",
       "<text text-anchor=\"middle\" x=\"27\" y=\"-101.3\" font-family=\"Times,serif\" font-size=\"14.00\">b</text>\n",
       "</g>\n",
       "<!-- c&#45;&#45;b -->\n",
       "<g id=\"edge4\" class=\"edge\">\n",
       "<title>c&#45;&#45;b</title>\n",
       "<path fill=\"none\" stroke=\"black\" d=\"M81.57,-183.93C67.14,-178.54 49.65,-169.66 39,-156 31.75,-146.71 28.79,-133.71 27.62,-123.29\"/>\n",
       "<text text-anchor=\"middle\" x=\"44\" y=\"-144.8\" font-family=\"Times,serif\" font-size=\"14.00\">1</text>\n",
       "</g>\n",
       "<!-- e -->\n",
       "<g id=\"node4\" class=\"node\">\n",
       "<title>e</title>\n",
       "<ellipse fill=\"none\" stroke=\"blue\" cx=\"76\" cy=\"-18\" rx=\"27\" ry=\"18\"/>\n",
       "<text text-anchor=\"middle\" x=\"76\" y=\"-14.3\" font-family=\"Times,serif\" font-size=\"14.00\">e</text>\n",
       "</g>\n",
       "<!-- c&#45;&#45;e -->\n",
       "<g id=\"edge5\" class=\"edge\">\n",
       "<title>c&#45;&#45;e</title>\n",
       "<path fill=\"none\" stroke=\"black\" d=\"M103.01,-173.88C97.26,-140.91 84.71,-68.97 78.97,-36.05\"/>\n",
       "<text text-anchor=\"middle\" x=\"98\" y=\"-101.3\" font-family=\"Times,serif\" font-size=\"14.00\">3</text>\n",
       "</g>\n",
       "<!-- d -->\n",
       "<g id=\"node5\" class=\"node\">\n",
       "<title>d</title>\n",
       "<ellipse fill=\"none\" stroke=\"black\" cx=\"145\" cy=\"-105\" rx=\"27\" ry=\"18\"/>\n",
       "<text text-anchor=\"middle\" x=\"145\" y=\"-101.3\" font-family=\"Times,serif\" font-size=\"14.00\">d</text>\n",
       "</g>\n",
       "<!-- c&#45;&#45;d -->\n",
       "<g id=\"edge6\" class=\"edge\">\n",
       "<title>c&#45;&#45;d</title>\n",
       "<path fill=\"none\" stroke=\"black\" d=\"M111.2,-174C114.44,-164.17 118.94,-151.67 124,-141 127.1,-134.47 131.06,-127.59 134.71,-121.67\"/>\n",
       "<text text-anchor=\"middle\" x=\"129\" y=\"-144.8\" font-family=\"Times,serif\" font-size=\"14.00\">1</text>\n",
       "</g>\n",
       "<!-- b&#45;&#45;c -->\n",
       "<g id=\"edge2\" class=\"edge\">\n",
       "<title>b&#45;&#45;c</title>\n",
       "<path fill=\"none\" stroke=\"black\" d=\"M37.9,-121.49C45.35,-131.69 55.72,-145.12 66,-156 73.23,-163.65 81.95,-171.42 89.4,-177.7\"/>\n",
       "<text text-anchor=\"middle\" x=\"71\" y=\"-144.8\" font-family=\"Times,serif\" font-size=\"14.00\">1</text>\n",
       "</g>\n",
       "<!-- b&#45;&#45;e -->\n",
       "<g id=\"edge3\" class=\"edge\">\n",
       "<title>b&#45;&#45;e</title>\n",
       "<path fill=\"none\" stroke=\"black\" d=\"M25.5,-86.82C25.37,-76.69 26.57,-63.96 32,-54 37.42,-44.06 46.96,-35.94 55.78,-30.03\"/>\n",
       "<text text-anchor=\"middle\" x=\"37\" y=\"-57.8\" font-family=\"Times,serif\" font-size=\"14.00\">1</text>\n",
       "</g>\n",
       "<!-- e&#45;&#45;c -->\n",
       "<g id=\"edge9\" class=\"edge\">\n",
       "<title>e&#45;&#45;c</title>\n",
       "<path fill=\"none\" stroke=\"black\" d=\"M99.88,-26.73C125.21,-36.37 163.88,-55.52 181,-87 200.46,-122.79 153.77,-160.55 125.56,-179.18\"/>\n",
       "<text text-anchor=\"middle\" x=\"190\" y=\"-101.3\" font-family=\"Times,serif\" font-size=\"14.00\">3</text>\n",
       "</g>\n",
       "<!-- e&#45;&#45;b -->\n",
       "<g id=\"edge8\" class=\"edge\">\n",
       "<title>e&#45;&#45;b</title>\n",
       "<path fill=\"none\" stroke=\"black\" d=\"M66.66,-35.21C57.91,-50.38 44.92,-72.91 36.22,-88.01\"/>\n",
       "<text text-anchor=\"middle\" x=\"59\" y=\"-57.8\" font-family=\"Times,serif\" font-size=\"14.00\">1</text>\n",
       "</g>\n",
       "<!-- d&#45;&#45;c -->\n",
       "<g id=\"edge7\" class=\"edge\">\n",
       "<title>d&#45;&#45;c</title>\n",
       "<path fill=\"none\" stroke=\"black\" d=\"M143.18,-123.3C141.65,-133.23 138.9,-145.73 134,-156 130.51,-163.3 125.24,-170.45 120.2,-176.36\"/>\n",
       "<text text-anchor=\"middle\" x=\"144\" y=\"-144.8\" font-family=\"Times,serif\" font-size=\"14.00\">1</text>\n",
       "</g>\n",
       "<!-- f -->\n",
       "<g id=\"node6\" class=\"node\">\n",
       "<title>f</title>\n",
       "<ellipse fill=\"none\" stroke=\"black\" cx=\"178\" cy=\"-279\" rx=\"27\" ry=\"18\"/>\n",
       "<text text-anchor=\"middle\" x=\"178\" y=\"-275.3\" font-family=\"Times,serif\" font-size=\"14.00\">f</text>\n",
       "</g>\n",
       "</g>\n",
       "</svg>\n"
      ],
      "text/plain": [
       "<graphviz.graphs.Graph at 0x7eb0a87f1e10>"
      ]
     },
     "execution_count": 10,
     "metadata": {},
     "output_type": "execute_result"
    }
   ],
   "source": [
    "tree()"
   ]
  },
  {
   "cell_type": "code",
   "execution_count": 11,
   "metadata": {
    "id": "Gs8rPRcuYuDy"
   },
   "outputs": [],
   "source": [
    "class Dijkstra():\n",
    "    def __init__(self,in_tree):\n",
    "        self.q = Queue()\n",
    "        self.dist = {name:np.Inf for name,node in in_tree.g.items()}\n",
    "        self.via = {name:0 for name,node in in_tree.g.items()}\n",
    "        self.visited = {name:False for name,node in in_tree.g.items()}\n",
    "        for __,node in in_tree.g.items():\n",
    "            self.q.push(node)        \n",
    "    \n",
    "    def __get_dist_to_node(self,node):\n",
    "        return self.dist[node.name]\n",
    "    \n",
    "    def solve(self, sn, en):\n",
    "        self.dist[sn.name] = 0\n",
    "        while len(self.q) > 0:\n",
    "            # self.q.sort(key=lambda node:(self.__get_dist_to_node,self.h[node.name]))\n",
    "            self.q.sort(key=self.__get_dist_to_node)\n",
    "\n",
    "            u = self.q.pop()\n",
    "            #print(u.name,self.q.queue)\n",
    "            if u.name == en.name:\n",
    "                break\n",
    "            for i in range(len(u.children)):\n",
    "                c = u.children[i]\n",
    "                w = u.weight[i]\n",
    "                new_dist = self.dist[u.name] + w\n",
    "                if new_dist < self.dist[c.name]:\n",
    "                    self.dist[c.name] = new_dist\n",
    "                    self.via[c.name] = u.name\n",
    "            \n",
    "    \n",
    "    def reconstruct_path(self,sn,en):\n",
    "        start_key = sn.name\n",
    "        end_key = en.name\n",
    "        dist = self.dist[end_key]\n",
    "        u = end_key\n",
    "        path = [u]\n",
    "        while u != start_key:\n",
    "            u = self.via[u]\n",
    "            path.append(u)\n",
    "        path.reverse()\n",
    "        return path,dist\n",
    "        "
   ]
  },
  {
   "cell_type": "code",
   "execution_count": 12,
   "metadata": {
    "colab": {
     "base_uri": "https://localhost:8080/"
    },
    "executionInfo": {
     "elapsed": 204,
     "status": "ok",
     "timestamp": 1679681207879,
     "user": {
      "displayName": "Zihan Wang",
      "userId": "15541409756149399025"
     },
     "user_tz": 240
    },
    "id": "3cKGtlRAYuDy",
    "outputId": "ca0b078f-3d10-49ea-9c28-fb129d296733"
   },
   "outputs": [
    {
     "data": {
      "text/plain": [
       "(['a', 'c', 'b', 'e'], 3)"
      ]
     },
     "execution_count": 12,
     "metadata": {},
     "output_type": "execute_result"
    }
   ],
   "source": [
    "dj = Dijkstra(tree)\n",
    "dj.solve(tree.g[tree.root],tree.g[tree.end])\n",
    "dj.reconstruct_path(tree.g[tree.root],tree.g[tree.end])"
   ]
  },
  {
   "cell_type": "code",
   "execution_count": null,
   "metadata": {},
   "outputs": [],
   "source": []
  },
  {
   "cell_type": "markdown",
   "metadata": {
    "id": "B_E4QvUPYuDy"
   },
   "source": [
    "## A* Algorithm\n",
    "A* can be seen as an extension of Dijkstra's algorithm. While Dijkstra's fails to do a \"smart\" search, A* introduces an heuristic function $h$ to provide more information to the search process, which is aimed to improve the speed of Dijkstra's.\n",
    "In other words, the search queue in A* is prioritized based on a function $f(n)=g(n)+h(n)$, where $g(n)$ is the ``` dist ```\n",
    "vector containing the shortest distance up to the node $n$, while $h(n)$ is an heuristic that provides an idea of how \"good\" is to move to the node $n$ while searching for the path. Thus the score function $f$ weights not just how close is the node $n$ from the current node, but how \"good\" is to move towards that point, which at the end helps to proritize the paths that make more sense."
   ]
  },
  {
   "cell_type": "code",
   "execution_count": 13,
   "metadata": {
    "id": "87E4_EsOYuDz"
   },
   "outputs": [],
   "source": [
    "class AStar():\n",
    "    def __init__(self,in_tree):\n",
    "        self.in_tree = in_tree\n",
    "        \n",
    "        self.q = Queue()\n",
    "        self.dist = {name:np.Inf for name,node in in_tree.g.items()}\n",
    "        self.h = {name:0 for name,node in in_tree.g.items()}\n",
    "        \n",
    "        for name,node in in_tree.g.items():\n",
    "            start = tuple(map(int, name.split(',')))\n",
    "            end = tuple(map(int, self.in_tree.end.split(',')))\n",
    "            self.h[name] = np.sqrt((end[0]-start[0])**2 + (end[1]-start[1])**2)\n",
    "        \n",
    "        self.via = {name:0 for name,node in in_tree.g.items()}\n",
    "        \n",
    "        # for __,node in in_tree.g.items():\n",
    "        #     self.q.push(node)\n",
    "        \n",
    "     \n",
    "    def __get_f_score(self, node):\n",
    "        # Place code here remove the pass \n",
    "        # statement once you start coding\n",
    "\n",
    "        return self.dist[node.name] + self.h[node.name]\n",
    "    \n",
    "    def __get_g_score(self, currentNode, neighbor):\n",
    "        start = tuple(map(int, currentNode.name.split(',')))\n",
    "        end = tuple(map(int, neighbor.name.split(',')))\n",
    "        return  abs(start[0] - end[0]) + abs(start[1] - end[1])\n",
    "    \n",
    "    def solve(self, sn, en):\n",
    "\n",
    "        self.dist[sn.name] = 0\n",
    "        self.q.push(sn)\n",
    "        \n",
    "        while len(self.q) > 0:\n",
    "            self.q.sort(key=self.__get_f_score)\n",
    "            u = self.q.pop()\n",
    "            #print(u.name,self.q.queue)\n",
    "            \n",
    "            if u.name == en.name:\n",
    "                break\n",
    "            for c in u.children:\n",
    "                \n",
    "                g_score = self.dist[u.name] + self.__get_g_score(u, c) \n",
    "                \n",
    "                if g_score < self.dist[c.name]:\n",
    "                    self.dist[c.name] = g_score\n",
    "                    self.via[c.name] = u.name\n",
    "                    \n",
    "                    if c in self.q.queue:\n",
    "                        self.q.queue.remove(c)\n",
    "                    self.q.push(c)\n",
    "                    \n",
    "        return self.dist[en.name]\n",
    "                 \n",
    "    \n",
    "    def reconstruct_path(self,sn,en):\n",
    "        path = []\n",
    "        current = en.name\n",
    "        dist = self.dist[en.name]\n",
    "        # Place code here\n",
    "        while current != 0:\n",
    "           path.append(current)\n",
    "           current = self.via[current]\n",
    "        \n",
    "        # while current in self.via and self.via[current] != 0:\n",
    "        #     path.append(current)\n",
    "        #     current = self.via[current]\n",
    "        # path.append(current)\n",
    "        path.reverse()\n",
    "        \n",
    "        return path,dist\n",
    "        # return path[::-1], self.dist[en.name]\n",
    "        "
   ]
  },
  {
   "cell_type": "markdown",
   "metadata": {
    "id": "sQY8iVUpYuDz"
   },
   "source": [
    "## Create A Graph From A Map"
   ]
  },
  {
   "cell_type": "code",
   "execution_count": 14,
   "metadata": {
    "id": "N7chSbExYuDz"
   },
   "outputs": [],
   "source": [
    "class MapProcessor():\n",
    "    def __init__(self,name):\n",
    "        self.map = Map(name)\n",
    "        self.inf_map_img_array = np.zeros(self.map.image_array.shape)\n",
    "        self.map_graph = Tree(name)\n",
    "    \n",
    "    def __modify_map_pixel(self,map_array,i,j,value,absolute):\n",
    "        if( (i >= 0) and \n",
    "            (i < map_array.shape[0]) and \n",
    "            (j >= 0) and\n",
    "            (j < map_array.shape[1]) ):\n",
    "            if absolute:\n",
    "                map_array[i][j] = value\n",
    "            else:\n",
    "                map_array[i][j] += value \n",
    "    \n",
    "    def __inflate_obstacle(self,kernel,map_array,i,j,absolute):\n",
    "        dx = int(kernel.shape[0]//2)\n",
    "        dy = int(kernel.shape[1]//2)\n",
    "        if (dx == 0) and (dy == 0):\n",
    "            self.__modify_map_pixel(map_array,i,j,kernel[0][0],absolute)\n",
    "        else:\n",
    "            for k in range(i-dx,i+dx):\n",
    "                for l in range(j-dy,j+dy):\n",
    "                    self.__modify_map_pixel(map_array,k,l,kernel[k-i+dx][l-j+dy],absolute)\n",
    "        \n",
    "    def inflate_map(self,kernel,absolute=True):\n",
    "        # Perform an operation like dilation, such that the small wall found during the mapping process\n",
    "        # are increased in size, thus forcing a safer path.\n",
    "        self.inf_map_img_array = np.zeros(self.map.image_array.shape)\n",
    "        for i in range(self.map.image_array.shape[0]):\n",
    "            for j in range(self.map.image_array.shape[1]):\n",
    "                if self.map.image_array[i][j] == 0:\n",
    "                    self.__inflate_obstacle(kernel,self.inf_map_img_array,i,j,absolute)\n",
    "        r = np.max(self.inf_map_img_array)-np.min(self.inf_map_img_array)\n",
    "        if r == 0:\n",
    "            r = 1\n",
    "        self.inf_map_img_array = (self.inf_map_img_array - np.min(self.inf_map_img_array))/r\n",
    "                \n",
    "    def get_graph_from_map(self):\n",
    "        # Create the nodes that will be part of the graph, considering only valid nodes or the free space\n",
    "        for i in range(self.map.image_array.shape[0]):\n",
    "            for j in range(self.map.image_array.shape[1]):\n",
    "                if self.inf_map_img_array[i][j] == 0:\n",
    "                    node = Node('%d,%d'%(i,j))\n",
    "                    self.map_graph.add_node(node)\n",
    "        # Connect the nodes through edges\n",
    "        for i in range(self.map.image_array.shape[0]):\n",
    "            for j in range(self.map.image_array.shape[1]):\n",
    "                if self.inf_map_img_array[i][j] == 0:                    \n",
    "                    if (i > 0):\n",
    "                        if self.inf_map_img_array[i-1][j] == 0:\n",
    "                            # add an edge up\n",
    "                            child_up = self.map_graph.g['%d,%d'%(i-1,j)]\n",
    "                            self.map_graph.g['%d,%d'%(i,j)].add_children([child_up],[1])\n",
    "                    if (i < (self.map.image_array.shape[0] - 1)):\n",
    "                        if self.inf_map_img_array[i+1][j] == 0:\n",
    "                            # add an edge down\n",
    "                            child_dw = self.map_graph.g['%d,%d'%(i+1,j)]\n",
    "                            self.map_graph.g['%d,%d'%(i,j)].add_children([child_dw],[1])\n",
    "                    if (j > 0):\n",
    "                        if self.inf_map_img_array[i][j-1] == 0:\n",
    "                            # add an edge to the left\n",
    "                            child_lf = self.map_graph.g['%d,%d'%(i,j-1)]\n",
    "                            self.map_graph.g['%d,%d'%(i,j)].add_children([child_lf],[1])\n",
    "                    if (j < (self.map.image_array.shape[1] - 1)):\n",
    "                        if self.inf_map_img_array[i][j+1] == 0:\n",
    "                            # add an edge to the right\n",
    "                            child_rg = self.map_graph.g['%d,%d'%(i,j+1)]\n",
    "                            self.map_graph.g['%d,%d'%(i,j)].add_children([child_rg],[1])\n",
    "                    if ((i > 0) and (j > 0)):\n",
    "                        if self.inf_map_img_array[i-1][j-1] == 0:\n",
    "                            # add an edge up-left \n",
    "                            child_up_lf = self.map_graph.g['%d,%d'%(i-1,j-1)]\n",
    "                            self.map_graph.g['%d,%d'%(i,j)].add_children([child_up_lf],[np.sqrt(2)])\n",
    "                    if ((i > 0) and (j < (self.map.image_array.shape[1] - 1))):\n",
    "                        if self.inf_map_img_array[i-1][j+1] == 0:\n",
    "                            # add an edge up-right\n",
    "                            child_up_rg = self.map_graph.g['%d,%d'%(i-1,j+1)]\n",
    "                            self.map_graph.g['%d,%d'%(i,j)].add_children([child_up_rg],[np.sqrt(2)])\n",
    "                    if ((i < (self.map.image_array.shape[0] - 1)) and (j > 0)):\n",
    "                        if self.inf_map_img_array[i+1][j-1] == 0:\n",
    "                            # add an edge down-left \n",
    "                            child_dw_lf = self.map_graph.g['%d,%d'%(i+1,j-1)]\n",
    "                            self.map_graph.g['%d,%d'%(i,j)].add_children([child_dw_lf],[np.sqrt(2)])\n",
    "                    if ((i < (self.map.image_array.shape[0] - 1)) and (j < (self.map.image_array.shape[1] - 1))):\n",
    "                        if self.inf_map_img_array[i+1][j+1] == 0:\n",
    "                            # add an edge down-right\n",
    "                            child_dw_rg = self.map_graph.g['%d,%d'%(i+1,j+1)]\n",
    "                            self.map_graph.g['%d,%d'%(i,j)].add_children([child_dw_rg],[np.sqrt(2)])                    \n",
    "        \n",
    "    def gaussian_kernel(self, size, sigma=1):\n",
    "        size = int(size) // 2\n",
    "        x, y = np.mgrid[-size:size+1, -size:size+1]\n",
    "        normal = 1 / (2.0 * np.pi * sigma**2)\n",
    "        g =  np.exp(-((x**2 + y**2) / (2.0*sigma**2))) * normal\n",
    "        r = np.max(g)-np.min(g)\n",
    "        sm = (g - np.min(g))*1/r\n",
    "        return sm\n",
    "    \n",
    "    def rect_kernel(self, size, value):\n",
    "        m = np.ones(shape=(size,size))\n",
    "        return m\n",
    "    \n",
    "    def draw_path(self,path):\n",
    "        path_tuple_list = []\n",
    "        path_array = copy(self.inf_map_img_array)\n",
    "        for idx in path:\n",
    "            tup = tuple(map(int, idx.split(',')))\n",
    "            path_tuple_list.append(tup)\n",
    "            path_array[tup] = 0.5\n",
    "        return path_array"
   ]
  },
  {
   "cell_type": "code",
   "execution_count": 15,
   "metadata": {
    "id": "nYAiXzy6YuD0"
   },
   "outputs": [],
   "source": [
    "# mp = MapProcessor('map')\n",
    "mp = MapProcessor('/home/albert/ros2_ws/src/task_4/maps/sync_classroom_map')"
   ]
  },
  {
   "cell_type": "code",
   "execution_count": 16,
   "metadata": {
    "colab": {
     "base_uri": "https://localhost:8080/",
     "height": 368
    },
    "executionInfo": {
     "elapsed": 1278,
     "status": "ok",
     "timestamp": 1679681264365,
     "user": {
      "displayName": "Zihan Wang",
      "userId": "15541409756149399025"
     },
     "user_tz": 240
    },
    "id": "2grYNIO1YuD0",
    "outputId": "bf3ce195-dceb-4c41-987c-307a80cbc3ab"
   },
   "outputs": [
    {
     "data": {
      "image/png": "[encoded data removed]",
      "text/plain": [
       "<Figure size 640x480 with 2 Axes>"
      ]
     },
     "metadata": {},
     "output_type": "display_data"
    }
   ],
   "source": [
    "# kr = mp.rect_kernel(5,1)\n",
    "kr = mp.rect_kernel(1,1)\n",
    "mp.inflate_map(kr,True)\n",
    "\n",
    "mp.get_graph_from_map()\n",
    "\n",
    "fig, ax = plt.subplots(dpi=100)\n",
    "plt.imshow(mp.inf_map_img_array)\n",
    "plt.colorbar()\n",
    "plt.show()"
   ]
  },
  {
   "cell_type": "code",
   "execution_count": 17,
   "metadata": {
    "colab": {
     "base_uri": "https://localhost:8080/"
    },
    "executionInfo": {
     "elapsed": 1120,
     "status": "ok",
     "timestamp": 1679681272430,
     "user": {
      "displayName": "Zihan Wang",
      "userId": "15541409756149399025"
     },
     "user_tz": 240
    },
    "id": "xrbBEjkSYuD1",
    "outputId": "eb8ae1f1-084d-44e8-c4d3-f03eaf99be75"
   },
   "outputs": [
    {
     "name": "stdout",
     "output_type": "stream",
     "text": [
      "Elapsed Time: 0.053\n"
     ]
    }
   ],
   "source": [
    "mp.map_graph.root = '40,50' # (y,x)\n",
    "mp.map_graph.end = '40,120'\n",
    "\n",
    "# mp.map_graph.root = \"90,125\"\n",
    "# mp.map_graph.end = \"113,80\"\n",
    "\n",
    "bfs_maze = BFS(mp.map_graph)\n",
    "\n",
    "start = time.time()\n",
    "bfs_maze.solve(mp.map_graph.g[mp.map_graph.root])\n",
    "end = time.time()\n",
    "print('Elapsed Time: %.3f'%(end - start))\n",
    "\n",
    "path_bfs,dist_bfs = bfs_maze.reconstruct_path(mp.map_graph.g[mp.map_graph.root],mp.map_graph.g[mp.map_graph.end])"
   ]
  },
  {
   "cell_type": "code",
   "execution_count": 18,
   "metadata": {
    "id": "RVYUTfZQYuD1"
   },
   "outputs": [],
   "source": [
    "path_arr_bfs = mp.draw_path(path_bfs)"
   ]
  },
  {
   "cell_type": "code",
   "execution_count": 19,
   "metadata": {
    "colab": {
     "base_uri": "https://localhost:8080/"
    },
    "executionInfo": {
     "elapsed": 125,
     "status": "ok",
     "timestamp": 1679681283287,
     "user": {
      "displayName": "Zihan Wang",
      "userId": "15541409756149399025"
     },
     "user_tz": 240
    },
    "id": "IOXVFwo49_6w",
    "outputId": "dc264c29-52c6-4917-b858-82bb266d9d8d"
   },
   "outputs": [
    {
     "data": {
      "text/plain": [
       "['40,50',\n",
       " '40,51',\n",
       " '40,52',\n",
       " '40,53',\n",
       " '40,54',\n",
       " '40,55',\n",
       " '40,56',\n",
       " '40,57',\n",
       " '40,58',\n",
       " '40,59',\n",
       " '40,60',\n",
       " '40,61',\n",
       " '40,62',\n",
       " '40,63',\n",
       " '40,64',\n",
       " '40,65',\n",
       " '40,66',\n",
       " '40,67',\n",
       " '40,68',\n",
       " '40,69',\n",
       " '40,70',\n",
       " '40,71',\n",
       " '40,72',\n",
       " '40,73',\n",
       " '40,74',\n",
       " '40,75',\n",
       " '40,76',\n",
       " '40,77',\n",
       " '40,78',\n",
       " '40,79',\n",
       " '41,80',\n",
       " '42,81',\n",
       " '43,82',\n",
       " '44,83',\n",
       " '45,84',\n",
       " '46,85',\n",
       " '47,86',\n",
       " '48,87',\n",
       " '49,88',\n",
       " '50,89',\n",
       " '51,90',\n",
       " '52,91',\n",
       " '53,92',\n",
       " '54,93',\n",
       " '55,94',\n",
       " '56,95',\n",
       " '57,96',\n",
       " '58,97',\n",
       " '59,98',\n",
       " '59,99',\n",
       " '59,100',\n",
       " '59,101',\n",
       " '59,102',\n",
       " '59,103',\n",
       " '59,104',\n",
       " '59,105',\n",
       " '59,106',\n",
       " '59,107',\n",
       " '59,108',\n",
       " '59,109',\n",
       " '59,110',\n",
       " '59,111',\n",
       " '59,112',\n",
       " '59,113',\n",
       " '59,114',\n",
       " '59,115',\n",
       " '59,116',\n",
       " '59,117',\n",
       " '59,118',\n",
       " '59,119',\n",
       " '59,120',\n",
       " '59,121',\n",
       " '59,122',\n",
       " '59,123',\n",
       " '59,124',\n",
       " '59,125',\n",
       " '59,126',\n",
       " '59,127',\n",
       " '59,128',\n",
       " '59,129',\n",
       " '59,130',\n",
       " '59,131',\n",
       " '58,132',\n",
       " '57,133',\n",
       " '56,133',\n",
       " '55,133',\n",
       " '54,133',\n",
       " '53,133',\n",
       " '52,133',\n",
       " '51,133',\n",
       " '50,133',\n",
       " '49,133',\n",
       " '48,133',\n",
       " '47,133',\n",
       " '46,133',\n",
       " '45,133',\n",
       " '44,133',\n",
       " '43,133',\n",
       " '42,133',\n",
       " '41,133',\n",
       " '40,133',\n",
       " '39,133',\n",
       " '38,133',\n",
       " '37,133',\n",
       " '36,133',\n",
       " '35,133',\n",
       " '34,133',\n",
       " '33,133',\n",
       " '32,133',\n",
       " '31,133',\n",
       " '30,133',\n",
       " '29,133',\n",
       " '28,133',\n",
       " '27,133',\n",
       " '26,133',\n",
       " '25,133',\n",
       " '24,133',\n",
       " '23,133',\n",
       " '22,133',\n",
       " '21,133',\n",
       " '20,133',\n",
       " '19,133',\n",
       " '18,133',\n",
       " '17,133',\n",
       " '16,133',\n",
       " '15,133',\n",
       " '14,133',\n",
       " '13,133',\n",
       " '12,132',\n",
       " '12,131',\n",
       " '12,130',\n",
       " '13,129',\n",
       " '14,129',\n",
       " '15,129',\n",
       " '16,129',\n",
       " '17,129',\n",
       " '18,129',\n",
       " '19,129',\n",
       " '20,129',\n",
       " '21,129',\n",
       " '22,129',\n",
       " '23,129',\n",
       " '24,129',\n",
       " '25,129',\n",
       " '26,129',\n",
       " '27,129',\n",
       " '28,129',\n",
       " '29,129',\n",
       " '30,129',\n",
       " '31,129',\n",
       " '32,128',\n",
       " '33,127',\n",
       " '34,126',\n",
       " '35,125',\n",
       " '36,124',\n",
       " '37,123',\n",
       " '38,122',\n",
       " '39,121',\n",
       " '40,120']"
      ]
     },
     "execution_count": 19,
     "metadata": {},
     "output_type": "execute_result"
    }
   ],
   "source": [
    "path_bfs"
   ]
  },
  {
   "cell_type": "code",
   "execution_count": 20,
   "metadata": {
    "colab": {
     "base_uri": "https://localhost:8080/"
    },
    "executionInfo": {
     "elapsed": 36622,
     "status": "ok",
     "timestamp": 1679681324311,
     "user": {
      "displayName": "Zihan Wang",
      "userId": "15541409756149399025"
     },
     "user_tz": 240
    },
    "id": "Mh-efvMyYuD1",
    "outputId": "449ce46f-acd8-49ae-a1b1-8db17fea7317"
   },
   "outputs": [
    {
     "name": "stdout",
     "output_type": "stream",
     "text": [
      "Elapsed Time: 36.476\n"
     ]
    }
   ],
   "source": [
    "mp.map_graph.root = '40,50'\n",
    "mp.map_graph.end = '40,120'\n",
    "dj_maze = Dijkstra(mp.map_graph)\n",
    "\n",
    "start = time.time()\n",
    "dj_maze.solve(mp.map_graph.g[mp.map_graph.root],mp.map_graph.g[mp.map_graph.end])\n",
    "end = time.time()\n",
    "print('Elapsed Time: %.3f'%(end - start))\n",
    "\n",
    "path_djk,dist_djk = dj_maze.reconstruct_path(mp.map_graph.g[mp.map_graph.root],mp.map_graph.g[mp.map_graph.end])"
   ]
  },
  {
   "cell_type": "code",
   "execution_count": null,
   "metadata": {},
   "outputs": [],
   "source": []
  },
  {
   "cell_type": "code",
   "execution_count": 21,
   "metadata": {
    "id": "G5r-sX6oYuD2"
   },
   "outputs": [],
   "source": [
    "path_arr_djk = mp.draw_path(path_djk)"
   ]
  },
  {
   "cell_type": "code",
   "execution_count": null,
   "metadata": {
    "colab": {
     "base_uri": "https://localhost:8080/"
    },
    "executionInfo": {
     "elapsed": 339,
     "status": "ok",
     "timestamp": 1679681349977,
     "user": {
      "displayName": "Zihan Wang",
      "userId": "15541409756149399025"
     },
     "user_tz": 240
    },
    "id": "2g3xBD_LYuD2",
    "outputId": "a4c10e01-e2f3-4f6f-8f89-a98b5aaf6954"
   },
   "outputs": [
    {
     "name": "stdout",
     "output_type": "stream",
     "text": [
      "Elapsed Time: 0.409\n"
     ]
    }
   ],
   "source": [
    "mp.map_graph.root = \"119,15\"\n",
    "# mp.map_graph.root = \"0,0\"\n",
    "mp.map_graph.end = \"100,175\"\n",
    "\n",
    "as_maze = AStar(mp.map_graph)\n",
    "\n",
    "start = time.time()\n",
    "as_maze.solve(mp.map_graph.g[mp.map_graph.root],mp.map_graph.g[mp.map_graph.end])\n",
    "end = time.time()\n",
    "print('Elapsed Time: %.3f'%(end - start))\n",
    "\n",
    "path_as,dist_as = as_maze.reconstruct_path(mp.map_graph.g[mp.map_graph.root],mp.map_graph.g[mp.map_graph.end])\n",
    "# as_maze.reconstruct_path(mp.map_graph.g[mp.map_graph.root],mp.map_graph.g[mp.map_graph.end])\n"
   ]
  },
  {
   "cell_type": "code",
   "execution_count": 28,
   "metadata": {
    "id": "Kmt2ZMcPYuD2"
   },
   "outputs": [],
   "source": [
    "path_arr_as = mp.draw_path(path_as)"
   ]
  },
  {
   "cell_type": "code",
   "execution_count": 29,
   "metadata": {
    "colab": {
     "base_uri": "https://localhost:8080/",
     "height": 693
    },
    "executionInfo": {
     "elapsed": 488,
     "status": "ok",
     "timestamp": 1679681363878,
     "user": {
      "displayName": "Zihan Wang",
      "userId": "15541409756149399025"
     },
     "user_tz": 240
    },
    "id": "JX-zhFmHYuD3",
    "outputId": "46c4b37d-8107-4ee4-a3b6-9aa2d4fb3285"
   },
   "outputs": [
    {
     "data": {
      "image/png": "[encoded data removed]",
      "text/plain": [
       "<Figure size 1920x1440 with 3 Axes>"
      ]
     },
     "metadata": {},
     "output_type": "display_data"
    }
   ],
   "source": [
    "fig, ax = plt.subplots(nrows = 1, ncols = 3, dpi=300, sharex=True, sharey=True)\n",
    "ax[0].imshow(path_arr_bfs)\n",
    "ax[0].set_title('Path BFS')\n",
    "ax[1].imshow(path_arr_djk)\n",
    "ax[1].set_title('Path Dijkstra')\n",
    "ax[2].imshow(path_arr_as)\n",
    "ax[2].set_title('Path A*')\n",
    "\n",
    "plt.show()"
   ]
  },
  {
   "cell_type": "code",
   "execution_count": null,
   "metadata": {
    "id": "26tAkoU9YuD3"
   },
   "outputs": [],
   "source": [
    "print(dist_djk)\n",
    "print(dist_as)\n",
    "print(dist_bfs)"
   ]
  },
  {
   "cell_type": "code",
   "execution_count": null,
   "metadata": {
    "id": "WNddPcjrarGL"
   },
   "outputs": [],
   "source": [
    "# For Grading Purposes ONLY (PLEASE DO NOT REMOVE)\n",
    "from jupyter_grader import JupyterGrader\n",
    "grader = JupyterGrader()\n",
    "# Update the 'map_name' variable if your map filename is different\n",
    "map_name = 'sync_classroom_map'\n",
    "grader.test_map_creation(map_name)\n",
    "grader.test_a_star(AStar)"
   ]
  }
 ],
 "metadata": {
  "colab": {
   "provenance": []
  },
  "kernelspec": {
   "display_name": "Python 3",
   "language": "python",
   "name": "python3"
  },
  "language_info": {
   "codemirror_mode": {
    "name": "ipython",
    "version": 3
   },
   "file_extension": ".py",
   "mimetype": "text/x-python",
   "name": "python",
   "nbconvert_exporter": "python",
   "pygments_lexer": "ipython3",
   "version": "3.10.12"
  }
 },
 "nbformat": 4,
 "nbformat_minor": 0
}
